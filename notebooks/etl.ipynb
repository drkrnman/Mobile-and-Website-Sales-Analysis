{
 "cells": [
  {
   "cell_type": "code",
   "execution_count": 1,
   "id": "2259932f-e543-4df2-9c1c-e3182012ced7",
   "metadata": {},
   "outputs": [],
   "source": [
    "import pandas as pd\n",
    "import os\n",
    "import statsmodels.api as sm\n",
    "from sklearn.preprocessing import StandardScaler\n",
    "from sklearn.cluster import KMeans\n",
    "import matplotlib.pyplot as plt\n",
    "import ast\n",
    "from sqlalchemy import create_engine, types as sat"
   ]
  },
  {
   "cell_type": "code",
   "execution_count": 2,
   "id": "c300b941-95df-4714-aec3-678675525878",
   "metadata": {},
   "outputs": [],
   "source": [
    "path = os.getcwd()\n",
    "file_list = []\n",
    "for f in os.listdir(path):\n",
    "        full_path = os.path.join(path, f)\n",
    "        if os.path.isfile(full_path):\n",
    "            file_list.append(f)\n"
   ]
  },
  {
   "cell_type": "code",
   "execution_count": 3,
   "id": "bd0dd85f-c1f3-4dda-b398-1b06ca54c67a",
   "metadata": {},
   "outputs": [],
   "source": [
    "def upload_table(dtype_map, df, table_name, batch_size = 10_000):\n",
    "    \"\"\"\n",
    "    Upload a pandas DataFrame to SQL Server.\n",
    "    - Drops the table if it already exists.\n",
    "    - Recreates it with the correct data types.\n",
    "    - Loads data efficiently in chunks.\n",
    "    \"\"\"\n",
    "    \n",
    "    # Create a database connection\n",
    "    engine = create_engine(\n",
    "        'mssql+pyodbc://@localhost\\\\SQLEXPRESS/app?driver=ODBC+Driver+17+for+SQL+Server',\n",
    "        fast_executemany=True\n",
    "    )   \n",
    "    \n",
    "    # Drop the existing table if it exists\n",
    "    query = f\"IF OBJECT_ID('dbo.{table_name}', 'U') IS NOT NULL DROP TABLE dbo.{table_name};\"\n",
    "    \n",
    "    try:\n",
    "        with engine.begin() as conn:\n",
    "            # Execute drop query\n",
    "            conn.exec_driver_sql(query)\n",
    "            # Upload DataFrame to SQL Server\n",
    "            df.to_sql(\n",
    "                name=table_name,\n",
    "                con=conn,\n",
    "                schema='dbo',\n",
    "                if_exists='fail', # fail if table somehow already exists\n",
    "                index=False, \n",
    "                dtype=dtype_map, # column type mapping\n",
    "                chunksize=batch_size # batch size for faster upload\n",
    "            )\n",
    "        print(f\"Table '{table_name}' successfully uploaded ({len(df)} rows).\")\n",
    "        return True  \n",
    "    except Exception as e:\n",
    "        print(f\"Error uploading table '{table_name}': {e}\")\n",
    "        return False"
   ]
  },
  {
   "cell_type": "markdown",
   "id": "fa49e1ef-ff2c-48da-8493-0718da81734b",
   "metadata": {},
   "source": [
    "1. Prepare transaction to rd_transaction"
   ]
  },
  {
   "cell_type": "code",
   "execution_count": 5,
   "id": "6f345555-b021-4e5c-a759-b12fab74bad4",
   "metadata": {},
   "outputs": [
    {
     "data": {
      "text/html": [
       "<div>\n",
       "<style scoped>\n",
       "    .dataframe tbody tr th:only-of-type {\n",
       "        vertical-align: middle;\n",
       "    }\n",
       "\n",
       "    .dataframe tbody tr th {\n",
       "        vertical-align: top;\n",
       "    }\n",
       "\n",
       "    .dataframe thead th {\n",
       "        text-align: right;\n",
       "    }\n",
       "</style>\n",
       "<table border=\"1\" class=\"dataframe\">\n",
       "  <thead>\n",
       "    <tr style=\"text-align: right;\">\n",
       "      <th></th>\n",
       "      <th>created_at</th>\n",
       "      <th>customer_id</th>\n",
       "      <th>booking_id</th>\n",
       "      <th>session_id</th>\n",
       "      <th>product_metadata</th>\n",
       "      <th>payment_method</th>\n",
       "      <th>payment_status</th>\n",
       "      <th>promo_amount</th>\n",
       "      <th>promo_code</th>\n",
       "      <th>shipment_fee</th>\n",
       "      <th>shipment_date_limit</th>\n",
       "      <th>shipment_location_lat</th>\n",
       "      <th>shipment_location_long</th>\n",
       "      <th>total_amount</th>\n",
       "    </tr>\n",
       "  </thead>\n",
       "  <tbody>\n",
       "    <tr>\n",
       "      <th>459002</th>\n",
       "      <td>2018-02-14T11:54:45.797470Z</td>\n",
       "      <td>1739</td>\n",
       "      <td>f5732263-d17b-4f20-9c0a-b3df08a29246</td>\n",
       "      <td>df437729-d8a7-4f1c-aa52-e15aae1d4c45</td>\n",
       "      <td>[{'product_id': 26073, 'quantity': 1, 'item_pr...</td>\n",
       "      <td>Gopay</td>\n",
       "      <td>Success</td>\n",
       "      <td>4970</td>\n",
       "      <td>XX2022</td>\n",
       "      <td>0</td>\n",
       "      <td>2018-02-19T21:44:59.954226Z</td>\n",
       "      <td>-7.882427</td>\n",
       "      <td>112.922810</td>\n",
       "      <td>188704</td>\n",
       "    </tr>\n",
       "    <tr>\n",
       "      <th>125379</th>\n",
       "      <td>2019-01-16T17:47:40.136850Z</td>\n",
       "      <td>13514</td>\n",
       "      <td>1f08ae93-3fab-4eda-a9f8-b5b7ec91a046</td>\n",
       "      <td>e8587c07-bac5-44a6-a25c-b0e035e9f9c9</td>\n",
       "      <td>[{'product_id': 42664, 'quantity': 1, 'item_pr...</td>\n",
       "      <td>Gopay</td>\n",
       "      <td>Success</td>\n",
       "      <td>0</td>\n",
       "      <td>NaN</td>\n",
       "      <td>10000</td>\n",
       "      <td>2019-01-22T13:29:07.594780Z</td>\n",
       "      <td>-5.333423</td>\n",
       "      <td>104.036873</td>\n",
       "      <td>113296</td>\n",
       "    </tr>\n",
       "    <tr>\n",
       "      <th>598101</th>\n",
       "      <td>2016-07-09T20:33:57.744176Z</td>\n",
       "      <td>38239</td>\n",
       "      <td>f953611d-1183-4ba7-a632-d58cfe565e13</td>\n",
       "      <td>9cd613f4-7cc0-43d1-a8b4-d8fd37e442b1</td>\n",
       "      <td>[{'product_id': 22593, 'quantity': 3, 'item_pr...</td>\n",
       "      <td>Credit Card</td>\n",
       "      <td>Success</td>\n",
       "      <td>3416</td>\n",
       "      <td>WEEKENDMANTAP</td>\n",
       "      <td>10000</td>\n",
       "      <td>2016-07-15T09:45:14.839672Z</td>\n",
       "      <td>1.354218</td>\n",
       "      <td>116.245514</td>\n",
       "      <td>985625</td>\n",
       "    </tr>\n",
       "    <tr>\n",
       "      <th>197794</th>\n",
       "      <td>2021-05-20T22:01:09.860198Z</td>\n",
       "      <td>56448</td>\n",
       "      <td>990de267-d3ca-4cc5-baa6-7473f5e34243</td>\n",
       "      <td>a72aebde-1068-410c-ad5a-6a38787daede</td>\n",
       "      <td>[{'product_id': 55860, 'quantity': 1, 'item_pr...</td>\n",
       "      <td>OVO</td>\n",
       "      <td>Success</td>\n",
       "      <td>0</td>\n",
       "      <td>NaN</td>\n",
       "      <td>10000</td>\n",
       "      <td>2021-05-25T22:30:51.344087Z</td>\n",
       "      <td>-6.141026</td>\n",
       "      <td>106.781025</td>\n",
       "      <td>195514</td>\n",
       "    </tr>\n",
       "    <tr>\n",
       "      <th>667553</th>\n",
       "      <td>2022-03-01T01:55:17.369746Z</td>\n",
       "      <td>88452</td>\n",
       "      <td>f0c5eb84-10d8-4d7a-9446-cefa4d443438</td>\n",
       "      <td>28f7adea-30db-4653-a84e-a45556f3d7da</td>\n",
       "      <td>[{'product_id': 17149, 'quantity': 1, 'item_pr...</td>\n",
       "      <td>Gopay</td>\n",
       "      <td>Success</td>\n",
       "      <td>3506</td>\n",
       "      <td>AZ2022</td>\n",
       "      <td>10000</td>\n",
       "      <td>2022-03-06T11:25:38.342973Z</td>\n",
       "      <td>-7.737344</td>\n",
       "      <td>110.461554</td>\n",
       "      <td>1236382</td>\n",
       "    </tr>\n",
       "  </tbody>\n",
       "</table>\n",
       "</div>"
      ],
      "text/plain": [
       "                         created_at  customer_id  \\\n",
       "459002  2018-02-14T11:54:45.797470Z         1739   \n",
       "125379  2019-01-16T17:47:40.136850Z        13514   \n",
       "598101  2016-07-09T20:33:57.744176Z        38239   \n",
       "197794  2021-05-20T22:01:09.860198Z        56448   \n",
       "667553  2022-03-01T01:55:17.369746Z        88452   \n",
       "\n",
       "                                  booking_id  \\\n",
       "459002  f5732263-d17b-4f20-9c0a-b3df08a29246   \n",
       "125379  1f08ae93-3fab-4eda-a9f8-b5b7ec91a046   \n",
       "598101  f953611d-1183-4ba7-a632-d58cfe565e13   \n",
       "197794  990de267-d3ca-4cc5-baa6-7473f5e34243   \n",
       "667553  f0c5eb84-10d8-4d7a-9446-cefa4d443438   \n",
       "\n",
       "                                  session_id  \\\n",
       "459002  df437729-d8a7-4f1c-aa52-e15aae1d4c45   \n",
       "125379  e8587c07-bac5-44a6-a25c-b0e035e9f9c9   \n",
       "598101  9cd613f4-7cc0-43d1-a8b4-d8fd37e442b1   \n",
       "197794  a72aebde-1068-410c-ad5a-6a38787daede   \n",
       "667553  28f7adea-30db-4653-a84e-a45556f3d7da   \n",
       "\n",
       "                                         product_metadata payment_method  \\\n",
       "459002  [{'product_id': 26073, 'quantity': 1, 'item_pr...          Gopay   \n",
       "125379  [{'product_id': 42664, 'quantity': 1, 'item_pr...          Gopay   \n",
       "598101  [{'product_id': 22593, 'quantity': 3, 'item_pr...    Credit Card   \n",
       "197794  [{'product_id': 55860, 'quantity': 1, 'item_pr...            OVO   \n",
       "667553  [{'product_id': 17149, 'quantity': 1, 'item_pr...          Gopay   \n",
       "\n",
       "       payment_status  promo_amount     promo_code  shipment_fee  \\\n",
       "459002        Success          4970         XX2022             0   \n",
       "125379        Success             0            NaN         10000   \n",
       "598101        Success          3416  WEEKENDMANTAP         10000   \n",
       "197794        Success             0            NaN         10000   \n",
       "667553        Success          3506         AZ2022         10000   \n",
       "\n",
       "                shipment_date_limit  shipment_location_lat  \\\n",
       "459002  2018-02-19T21:44:59.954226Z              -7.882427   \n",
       "125379  2019-01-22T13:29:07.594780Z              -5.333423   \n",
       "598101  2016-07-15T09:45:14.839672Z               1.354218   \n",
       "197794  2021-05-25T22:30:51.344087Z              -6.141026   \n",
       "667553  2022-03-06T11:25:38.342973Z              -7.737344   \n",
       "\n",
       "        shipment_location_long  total_amount  \n",
       "459002              112.922810        188704  \n",
       "125379              104.036873        113296  \n",
       "598101              116.245514        985625  \n",
       "197794              106.781025        195514  \n",
       "667553              110.461554       1236382  "
      ]
     },
     "execution_count": 5,
     "metadata": {},
     "output_type": "execute_result"
    }
   ],
   "source": [
    "transactions = pd.read_csv('transactions.csv')\n",
    "transactions.sample(5)"
   ]
  },
  {
   "cell_type": "code",
   "execution_count": 6,
   "id": "191fd1dd-5b6b-4e9f-8f00-6b14d485fdfa",
   "metadata": {},
   "outputs": [],
   "source": [
    "transactions_1 = transactions.copy()"
   ]
  },
  {
   "cell_type": "code",
   "execution_count": 7,
   "id": "f7c88c81-67ed-4753-a232-94e5aa5cec10",
   "metadata": {},
   "outputs": [],
   "source": [
    "transactions_1['created_at'] = pd.to_datetime(transactions_1['created_at'])\n",
    "transactions_1['created_at'] = transactions_1['created_at'].dt.floor('s')\n",
    "transactions_1['shipment_date_limit'] = pd.to_datetime(transactions_1['shipment_date_limit'])\n",
    "transactions_1['shipment_date_limit'] = transactions_1['shipment_date_limit'].dt.floor('s')"
   ]
  },
  {
   "cell_type": "code",
   "execution_count": 8,
   "id": "d6ed5ffa-3d94-44ce-bc6f-a9f912df5d76",
   "metadata": {},
   "outputs": [
    {
     "name": "stdout",
     "output_type": "stream",
     "text": [
      "<class 'pandas.core.frame.DataFrame'>\n",
      "RangeIndex: 852584 entries, 0 to 852583\n",
      "Data columns (total 14 columns):\n",
      " #   Column                  Non-Null Count   Dtype              \n",
      "---  ------                  --------------   -----              \n",
      " 0   created_at              852584 non-null  datetime64[ns, UTC]\n",
      " 1   customer_id             852584 non-null  int64              \n",
      " 2   booking_id              852584 non-null  object             \n",
      " 3   session_id              852584 non-null  object             \n",
      " 4   product_metadata        852584 non-null  object             \n",
      " 5   payment_method          852584 non-null  object             \n",
      " 6   payment_status          852584 non-null  object             \n",
      " 7   promo_amount            852584 non-null  int64              \n",
      " 8   promo_code              326536 non-null  object             \n",
      " 9   shipment_fee            852584 non-null  int64              \n",
      " 10  shipment_date_limit     852584 non-null  datetime64[ns, UTC]\n",
      " 11  shipment_location_lat   852584 non-null  float64            \n",
      " 12  shipment_location_long  852584 non-null  float64            \n",
      " 13  total_amount            852584 non-null  int64              \n",
      "dtypes: datetime64[ns, UTC](2), float64(2), int64(4), object(6)\n",
      "memory usage: 91.1+ MB\n"
     ]
    }
   ],
   "source": [
    "transactions_1.info()"
   ]
  },
  {
   "cell_type": "code",
   "execution_count": 9,
   "id": "723d410e-1247-49ad-943a-586688ae6440",
   "metadata": {},
   "outputs": [],
   "source": [
    "transactions_1['has_free_shipping'] = (transactions_1['shipment_fee'] == 0).astype(int)\n",
    "transactions_1['has_promo'] = (transactions_1['promo_amount'] > 0).astype(int)"
   ]
  },
  {
   "cell_type": "code",
   "execution_count": 10,
   "id": "fab084f6-e9ab-4535-af90-97e2074b57f2",
   "metadata": {},
   "outputs": [
    {
     "name": "stdout",
     "output_type": "stream",
     "text": [
      "Table 'rd_transactions' successfully uploaded (852584 rows).\n"
     ]
    },
    {
     "data": {
      "text/plain": [
       "True"
      ]
     },
     "execution_count": 10,
     "metadata": {},
     "output_type": "execute_result"
    }
   ],
   "source": [
    "transactions_dtype_map = {\n",
    "    'booking_id':            sat.NVARCHAR(None),  # None == NVARCHAR(MAX)\n",
    "    'session_id':            sat.NVARCHAR(None),\n",
    "    'customer_id':           sat.BigInteger(),\n",
    "    'created_at':            sat.DateTime(),\n",
    "    'shipment_date_limit':   sat.DateTime(),\n",
    "    'days_to_shipment':      sat.Integer(),\n",
    "    'promo_flag':            sat.Integer(),\n",
    "    'promo_amount':          sat.Numeric(18, 2),\n",
    "    'promo_code':            sat.NVARCHAR(None),\n",
    "    'payment_method':        sat.NVARCHAR(None),\n",
    "    'payment_status':        sat.NVARCHAR(None),\n",
    "    'shipment_fee':          sat.Numeric(18, 2),\n",
    "    'total_amount':          sat.Numeric(18, 2),\n",
    "}\n",
    "\n",
    "upload_table(transactions_dtype_map, transactions_1, table_name = 'rd_transactions')\n",
    "\n"
   ]
  },
  {
   "cell_type": "markdown",
   "id": "2eddd626-9cf2-4500-b17f-09bb3cb62ec6",
   "metadata": {},
   "source": [
    "2. Organize the purchase composition into a separate table - rd_transactions_prods\n"
   ]
  },
  {
   "cell_type": "code",
   "execution_count": 12,
   "id": "c8a55403-1db4-4283-ad6a-6ea904fa8b3c",
   "metadata": {},
   "outputs": [],
   "source": [
    "def parse_and_explode_products(df):\n",
    "    \"\"\"\n",
    "    Explode product_metadata into separate rows with error handling.\n",
    "    \"\"\"\n",
    "    # Parse product_metadata safely\n",
    "    def safe_parse(x):\n",
    "        if isinstance(x, str):\n",
    "            try:\n",
    "                return ast.literal_eval(x)\n",
    "            except (ValueError, SyntaxError):\n",
    "                return []\n",
    "        return x if isinstance(x, list) else []\n",
    "    \n",
    "    df = df.copy()\n",
    "    df['products'] = df['product_metadata'].apply(safe_parse)\n",
    "    \n",
    "    # Explode products\n",
    "    exploded = df[['booking_id', 'products']].explode('products')\n",
    "    \n",
    "    # Filter out empty/None values\n",
    "    exploded = exploded[exploded['products'].notna()].reset_index(drop=True)\n",
    "    \n",
    "    # Extract fields\n",
    "    result = pd.DataFrame({\n",
    "        'booking_id': exploded['booking_id'],\n",
    "        'product_id': exploded['products'].apply(lambda x: x.get('product_id')),\n",
    "        'quantity': exploded['products'].apply(lambda x: x.get('quantity')),\n",
    "        'item_price': exploded['products'].apply(lambda x: x.get('item_price'))\n",
    "    })\n",
    "    \n",
    "    # Calculate amount\n",
    "    result['product_amount'] = result['quantity'] * result['item_price']\n",
    "    \n",
    "    return result\n",
    "\n",
    "transactions_prods_1 = parse_and_explode_products(transactions_1)\n"
   ]
  },
  {
   "cell_type": "code",
   "execution_count": 13,
   "id": "4d79bba5-9f57-487e-9a16-c5e37ffcf34b",
   "metadata": {},
   "outputs": [
    {
     "name": "stdout",
     "output_type": "stream",
     "text": [
      "Table 'rd_transactions_prods' successfully uploaded (1254585 rows).\n"
     ]
    },
    {
     "data": {
      "text/plain": [
       "True"
      ]
     },
     "execution_count": 13,
     "metadata": {},
     "output_type": "execute_result"
    }
   ],
   "source": [
    "transactions_prods_dtype_map = {\n",
    "    'booking_id':     sat.NVARCHAR(None),  # NVARCHAR(MAX) — чтобы влезли любые UUID/строки\n",
    "    'product_id':     sat.BigInteger(),\n",
    "    'quantity':       sat.BigInteger(),\n",
    "    'item_price':     sat.BigInteger(),\n",
    "    'product_amount': sat.BigInteger(),\n",
    "}\n",
    "upload_table(transactions_prods_dtype_map, transactions_prods_1, table_name = 'rd_transactions_prods', batch_size = 20_000)\n"
   ]
  },
  {
   "cell_type": "markdown",
   "id": "e63757bb-faec-4471-80ef-337dd3f17af1",
   "metadata": {},
   "source": [
    "3. Prepare click stream"
   ]
  },
  {
   "cell_type": "code",
   "execution_count": 15,
   "id": "4c4a4ed9-c84e-4653-aa50-b4cfee76a64b",
   "metadata": {},
   "outputs": [
    {
     "data": {
      "text/html": [
       "<div>\n",
       "<style scoped>\n",
       "    .dataframe tbody tr th:only-of-type {\n",
       "        vertical-align: middle;\n",
       "    }\n",
       "\n",
       "    .dataframe tbody tr th {\n",
       "        vertical-align: top;\n",
       "    }\n",
       "\n",
       "    .dataframe thead th {\n",
       "        text-align: right;\n",
       "    }\n",
       "</style>\n",
       "<table border=\"1\" class=\"dataframe\">\n",
       "  <thead>\n",
       "    <tr style=\"text-align: right;\">\n",
       "      <th></th>\n",
       "      <th>session_id</th>\n",
       "      <th>event_name</th>\n",
       "      <th>event_time</th>\n",
       "      <th>event_id</th>\n",
       "      <th>traffic_source</th>\n",
       "      <th>event_metadata</th>\n",
       "    </tr>\n",
       "  </thead>\n",
       "  <tbody>\n",
       "    <tr>\n",
       "      <th>9256921</th>\n",
       "      <td>b586bb7c-7fe1-4219-ba8a-22100ed12d02</td>\n",
       "      <td>SCROLL</td>\n",
       "      <td>2021-08-09T22:33:12.891590Z</td>\n",
       "      <td>25cdf0e0-7350-47e2-a1be-10af48d0f27f</td>\n",
       "      <td>MOBILE</td>\n",
       "      <td>NaN</td>\n",
       "    </tr>\n",
       "    <tr>\n",
       "      <th>2818314</th>\n",
       "      <td>a21ee564-6d50-4b43-a205-b85fd76fcc89</td>\n",
       "      <td>CLICK</td>\n",
       "      <td>2018-06-11T03:17:53.447372Z</td>\n",
       "      <td>c4b200ac-9c5d-4a15-8999-5ce6e865e182</td>\n",
       "      <td>MOBILE</td>\n",
       "      <td>NaN</td>\n",
       "    </tr>\n",
       "    <tr>\n",
       "      <th>2416422</th>\n",
       "      <td>2c52329b-6644-4147-ab76-0ee4602aab63</td>\n",
       "      <td>BOOKING</td>\n",
       "      <td>2021-12-11T12:58:23.400385Z</td>\n",
       "      <td>c1ecb9a5-60e7-485d-9d07-d3f4080fe45d</td>\n",
       "      <td>MOBILE</td>\n",
       "      <td>{'payment_status': 'Success'}</td>\n",
       "    </tr>\n",
       "    <tr>\n",
       "      <th>2611089</th>\n",
       "      <td>4f9ab76e-b67f-444f-94f8-081bb326ce71</td>\n",
       "      <td>SCROLL</td>\n",
       "      <td>2018-08-31T01:19:21.892401Z</td>\n",
       "      <td>977f5b70-9412-44fe-8c60-9fcabb753031</td>\n",
       "      <td>MOBILE</td>\n",
       "      <td>NaN</td>\n",
       "    </tr>\n",
       "    <tr>\n",
       "      <th>7073178</th>\n",
       "      <td>bb8fea8b-be58-4e48-844f-cf4ec10f865c</td>\n",
       "      <td>ITEM_DETAIL</td>\n",
       "      <td>2016-10-01T20:44:29.096315Z</td>\n",
       "      <td>899ecfcd-0676-4643-8693-64807aecdd53</td>\n",
       "      <td>MOBILE</td>\n",
       "      <td>NaN</td>\n",
       "    </tr>\n",
       "  </tbody>\n",
       "</table>\n",
       "</div>"
      ],
      "text/plain": [
       "                                   session_id   event_name  \\\n",
       "9256921  b586bb7c-7fe1-4219-ba8a-22100ed12d02       SCROLL   \n",
       "2818314  a21ee564-6d50-4b43-a205-b85fd76fcc89        CLICK   \n",
       "2416422  2c52329b-6644-4147-ab76-0ee4602aab63      BOOKING   \n",
       "2611089  4f9ab76e-b67f-444f-94f8-081bb326ce71       SCROLL   \n",
       "7073178  bb8fea8b-be58-4e48-844f-cf4ec10f865c  ITEM_DETAIL   \n",
       "\n",
       "                          event_time                              event_id  \\\n",
       "9256921  2021-08-09T22:33:12.891590Z  25cdf0e0-7350-47e2-a1be-10af48d0f27f   \n",
       "2818314  2018-06-11T03:17:53.447372Z  c4b200ac-9c5d-4a15-8999-5ce6e865e182   \n",
       "2416422  2021-12-11T12:58:23.400385Z  c1ecb9a5-60e7-485d-9d07-d3f4080fe45d   \n",
       "2611089  2018-08-31T01:19:21.892401Z  977f5b70-9412-44fe-8c60-9fcabb753031   \n",
       "7073178  2016-10-01T20:44:29.096315Z  899ecfcd-0676-4643-8693-64807aecdd53   \n",
       "\n",
       "        traffic_source                 event_metadata  \n",
       "9256921         MOBILE                            NaN  \n",
       "2818314         MOBILE                            NaN  \n",
       "2416422         MOBILE  {'payment_status': 'Success'}  \n",
       "2611089         MOBILE                            NaN  \n",
       "7073178         MOBILE                            NaN  "
      ]
     },
     "execution_count": 15,
     "metadata": {},
     "output_type": "execute_result"
    }
   ],
   "source": [
    "click_stream = pd.read_csv(\"click_stream.csv\")\n",
    "click_stream.sample(5)\n"
   ]
  },
  {
   "cell_type": "code",
   "execution_count": 16,
   "id": "71283a30-53a0-4b6a-b7bf-5f9b8ba7b74f",
   "metadata": {},
   "outputs": [
    {
     "name": "stdout",
     "output_type": "stream",
     "text": [
      "<class 'pandas.core.frame.DataFrame'>\n",
      "RangeIndex: 12833602 entries, 0 to 12833601\n",
      "Data columns (total 6 columns):\n",
      " #   Column          Dtype              \n",
      "---  ------          -----              \n",
      " 0   session_id      object             \n",
      " 1   event_name      object             \n",
      " 2   event_time      datetime64[ns, UTC]\n",
      " 3   event_id        object             \n",
      " 4   traffic_source  object             \n",
      " 5   event_metadata  object             \n",
      "dtypes: datetime64[ns, UTC](1), object(5)\n",
      "memory usage: 587.5+ MB\n"
     ]
    }
   ],
   "source": [
    "click_stream_1 = click_stream.copy()\n",
    "click_stream_1['event_time'] = pd.to_datetime(click_stream_1['event_time'])\n",
    "click_stream_1['event_time'] = click_stream_1['event_time'].dt.floor(\"s\")\n",
    "\n",
    "click_stream_1.info()"
   ]
  },
  {
   "cell_type": "markdown",
   "id": "6ab68c94-9c6e-41af-ab80-d1fe7140ce70",
   "metadata": {},
   "source": [
    "4. Split event attributes into separate tables and prepare rd_events_add_to_cart\n",
    "   "
   ]
  },
  {
   "cell_type": "code",
   "execution_count": 18,
   "id": "5c5073be-08e3-490d-a5d6-d3229044a401",
   "metadata": {},
   "outputs": [],
   "source": [
    "def make_event_table(df, event_name):\n",
    "\n",
    "    # 1. Filter by event\n",
    "    df_event = df[df['event_name'] == event_name].copy()\n",
    "    \n",
    "    # 2. Convert string to a dict (via ast.literal_eval)\n",
    "    df_event['event_metadata'] = df_event['event_metadata'].apply(ast.literal_eval)\n",
    "    \n",
    "    # 3.  Expand the dictionary into columns\n",
    "    metadata_df = pd.DataFrame(df_event['event_metadata'].tolist(), index=df_event.index)\n",
    "    \n",
    "    # 4. Merge with the remaining columns except event_metadata\n",
    "    df_event = df_event.drop(columns=['event_metadata', 'event_name' ]).join(metadata_df)\n",
    "    \n",
    "    return df_event\n"
   ]
  },
  {
   "cell_type": "code",
   "execution_count": 19,
   "id": "b23d056e-4e3b-4f02-a382-fb35e0f37200",
   "metadata": {},
   "outputs": [],
   "source": [
    "events_add_to_cart = make_event_table(click_stream_1, 'ADD_TO_CART')\n",
    "events_add_to_cart['prod_amount'] = events_add_to_cart['quantity']*events_add_to_cart['item_price']\n"
   ]
  },
  {
   "cell_type": "code",
   "execution_count": 20,
   "id": "d20b4454-e0c9-4351-89d8-2bcc8f1a4ed8",
   "metadata": {},
   "outputs": [],
   "source": [
    "events_add_to_cart['event_time'] = events_add_to_cart['event_time'].dt.tz_convert(None) # deleting UTC\n",
    "events_add_to_cart['prod_id'] = events_add_to_cart['product_id'].astype('int64')\n",
    "events_add_to_cart['quantity'] = events_add_to_cart['quantity'].astype('int64')\n",
    "events_add_to_cart['item_price'] = events_add_to_cart['item_price'].astype('float64').round(2)\n"
   ]
  },
  {
   "cell_type": "code",
   "execution_count": 21,
   "id": "a9b486a0-e7c8-4b68-b9c7-e21139282f5f",
   "metadata": {},
   "outputs": [
    {
     "name": "stdout",
     "output_type": "stream",
     "text": [
      "<class 'pandas.core.frame.DataFrame'>\n",
      "Index: 1937157 entries, 3 to 12833599\n",
      "Data columns (total 8 columns):\n",
      " #   Column          Dtype         \n",
      "---  ------          -----         \n",
      " 0   event_id        object        \n",
      " 1   event_time      datetime64[ns]\n",
      " 2   session_id      object        \n",
      " 3   traffic_source  object        \n",
      " 4   prod_id         int64         \n",
      " 5   quantity        int64         \n",
      " 6   item_price      float64       \n",
      " 7   prod_amount     int64         \n",
      "dtypes: datetime64[ns](1), float64(1), int64(3), object(3)\n",
      "memory usage: 133.0+ MB\n"
     ]
    }
   ],
   "source": [
    "events_add_to_cart_1 = events_add_to_cart[[\n",
    "    'event_id',\n",
    "    'event_time',\n",
    "    'session_id',\n",
    "    'traffic_source',\n",
    "    'product_id',\n",
    "    'quantity',\n",
    "    'item_price',\n",
    "    'prod_amount'\n",
    "]].copy()\n",
    "\n",
    "events_add_to_cart_1.rename(columns={'product_id': 'prod_id'}, inplace=True)\n",
    "events_add_to_cart_1.info()"
   ]
  },
  {
   "cell_type": "code",
   "execution_count": 22,
   "id": "cb7e9b0d-12b7-4734-ba46-7e8fd9d1d370",
   "metadata": {},
   "outputs": [
    {
     "name": "stdout",
     "output_type": "stream",
     "text": [
      "Table 'rd_events_add_to_cart' successfully uploaded (1937157 rows).\n"
     ]
    },
    {
     "data": {
      "text/plain": [
       "True"
      ]
     },
     "execution_count": 22,
     "metadata": {},
     "output_type": "execute_result"
    }
   ],
   "source": [
    "add_to_cart_dtype_map = {   \n",
    "    'event_id':       sat.NVARCHAR(None),\n",
    "    'event_time':     sat.DateTime(),\n",
    "    'session_id':     sat.NVARCHAR(None),\n",
    "    'traffic_source': sat.NVARCHAR(31),\n",
    "    'prod_id':        sat.BigInteger(),\n",
    "    'quantity':       sat.Integer(),\n",
    "    'item_price':     sat.Numeric(10, 2),\n",
    "    'prod_amount':    sat.Numeric(10, 2)\n",
    "}\n",
    "\n",
    "upload_table(add_to_cart_dtype_map, events_add_to_cart_1, table_name = 'rd_events_add_to_cart', batch_size = 20_000)\n"
   ]
  },
  {
   "cell_type": "markdown",
   "id": "47126835-51ff-4705-932b-b1c0b84b6f03",
   "metadata": {},
   "source": [
    "5.Preparation products"
   ]
  },
  {
   "cell_type": "code",
   "execution_count": 24,
   "id": "7e35f104-9c90-4f19-adbf-a3506021b880",
   "metadata": {},
   "outputs": [],
   "source": [
    "with open('product.csv', encoding='utf-8', errors='ignore') as f:\n",
    "    lines = ['\\t'.join(line.split(',')[:10]).replace('\\n',' ').replace('\\r',' ') for line in f]\n",
    "\n",
    "products = pd.read_csv(pd.io.common.StringIO('\\n'.join(lines)), sep='\\t', quotechar='\"')"
   ]
  },
  {
   "cell_type": "code",
   "execution_count": 25,
   "id": "3e712425-f5f0-4acd-961f-6aeca3cf78a1",
   "metadata": {},
   "outputs": [
    {
     "data": {
      "text/html": [
       "<div>\n",
       "<style scoped>\n",
       "    .dataframe tbody tr th:only-of-type {\n",
       "        vertical-align: middle;\n",
       "    }\n",
       "\n",
       "    .dataframe tbody tr th {\n",
       "        vertical-align: top;\n",
       "    }\n",
       "\n",
       "    .dataframe thead th {\n",
       "        text-align: right;\n",
       "    }\n",
       "</style>\n",
       "<table border=\"1\" class=\"dataframe\">\n",
       "  <thead>\n",
       "    <tr style=\"text-align: right;\">\n",
       "      <th></th>\n",
       "      <th>product_id</th>\n",
       "      <th>gender</th>\n",
       "      <th>masterCategory</th>\n",
       "      <th>subCategory</th>\n",
       "      <th>articleType</th>\n",
       "      <th>baseColour</th>\n",
       "      <th>season</th>\n",
       "      <th>year</th>\n",
       "      <th>usage</th>\n",
       "      <th>productDisplayName</th>\n",
       "    </tr>\n",
       "  </thead>\n",
       "  <tbody>\n",
       "    <tr>\n",
       "      <th>0</th>\n",
       "      <td>15970</td>\n",
       "      <td>Men</td>\n",
       "      <td>Apparel</td>\n",
       "      <td>Topwear</td>\n",
       "      <td>Shirts</td>\n",
       "      <td>Navy Blue</td>\n",
       "      <td>Fall</td>\n",
       "      <td>2011</td>\n",
       "      <td>Casual</td>\n",
       "      <td>Turtle Check Men Navy Blue Shirt</td>\n",
       "    </tr>\n",
       "    <tr>\n",
       "      <th>1</th>\n",
       "      <td>39386</td>\n",
       "      <td>Men</td>\n",
       "      <td>Apparel</td>\n",
       "      <td>Bottomwear</td>\n",
       "      <td>Jeans</td>\n",
       "      <td>Blue</td>\n",
       "      <td>Summer</td>\n",
       "      <td>2012</td>\n",
       "      <td>Casual</td>\n",
       "      <td>Peter England Men Party Blue Jeans</td>\n",
       "    </tr>\n",
       "    <tr>\n",
       "      <th>2</th>\n",
       "      <td>59263</td>\n",
       "      <td>Women</td>\n",
       "      <td>Accessories</td>\n",
       "      <td>Watches</td>\n",
       "      <td>Watches</td>\n",
       "      <td>Silver</td>\n",
       "      <td>Winter</td>\n",
       "      <td>2016</td>\n",
       "      <td>Casual</td>\n",
       "      <td>Titan Women Silver Watch</td>\n",
       "    </tr>\n",
       "    <tr>\n",
       "      <th>3</th>\n",
       "      <td>21379</td>\n",
       "      <td>Men</td>\n",
       "      <td>Apparel</td>\n",
       "      <td>Bottomwear</td>\n",
       "      <td>Track Pants</td>\n",
       "      <td>Black</td>\n",
       "      <td>Fall</td>\n",
       "      <td>2011</td>\n",
       "      <td>Casual</td>\n",
       "      <td>Manchester United Men Solid Black Track Pants</td>\n",
       "    </tr>\n",
       "    <tr>\n",
       "      <th>4</th>\n",
       "      <td>53759</td>\n",
       "      <td>Men</td>\n",
       "      <td>Apparel</td>\n",
       "      <td>Topwear</td>\n",
       "      <td>Tshirts</td>\n",
       "      <td>Grey</td>\n",
       "      <td>Summer</td>\n",
       "      <td>2012</td>\n",
       "      <td>Casual</td>\n",
       "      <td>Puma Men Grey T-shirt</td>\n",
       "    </tr>\n",
       "  </tbody>\n",
       "</table>\n",
       "</div>"
      ],
      "text/plain": [
       "   product_id gender masterCategory subCategory  articleType baseColour  \\\n",
       "0       15970    Men        Apparel     Topwear       Shirts  Navy Blue   \n",
       "1       39386    Men        Apparel  Bottomwear        Jeans       Blue   \n",
       "2       59263  Women    Accessories     Watches      Watches     Silver   \n",
       "3       21379    Men        Apparel  Bottomwear  Track Pants      Black   \n",
       "4       53759    Men        Apparel     Topwear      Tshirts       Grey   \n",
       "\n",
       "   season  year   usage                             productDisplayName   \n",
       "0    Fall  2011  Casual               Turtle Check Men Navy Blue Shirt   \n",
       "1  Summer  2012  Casual             Peter England Men Party Blue Jeans   \n",
       "2  Winter  2016  Casual                       Titan Women Silver Watch   \n",
       "3    Fall  2011  Casual  Manchester United Men Solid Black Track Pants   \n",
       "4  Summer  2012  Casual                          Puma Men Grey T-shirt   "
      ]
     },
     "execution_count": 25,
     "metadata": {},
     "output_type": "execute_result"
    }
   ],
   "source": [
    "products_1 = products.copy()\n",
    "products_1['year'] = products_1['year'].astype('Int64')\n",
    "products_1 = products_1.rename(columns={'id': 'product_id'})\n",
    "products_1.head()"
   ]
  },
  {
   "cell_type": "code",
   "execution_count": 26,
   "id": "51507f62-ae3a-4a14-8d65-e507fcedfbe9",
   "metadata": {},
   "outputs": [
    {
     "data": {
      "text/plain": [
       "season\n",
       "Summer     21476\n",
       "Fall       11445\n",
       "Winter      8519\n",
       "Spring      2985\n",
       "Not set       21\n",
       "Name: count, dtype: int64"
      ]
     },
     "execution_count": 26,
     "metadata": {},
     "output_type": "execute_result"
    }
   ],
   "source": [
    "products_1['season'] = products_1['season'].fillna('Not set')\n",
    "products_1['season'].value_counts()"
   ]
  },
  {
   "cell_type": "code",
   "execution_count": 27,
   "id": "50a08a9d-eb88-4560-92f7-d0594722133f",
   "metadata": {},
   "outputs": [
    {
     "data": {
      "text/plain": [
       "usage\n",
       "Casual          34414\n",
       "Sports           4025\n",
       "Ethnic           3208\n",
       "Formal           2359\n",
       "Not set           317\n",
       "Smart Casual       67\n",
       "Party              29\n",
       "Travel             26\n",
       "Home                1\n",
       "Name: count, dtype: int64"
      ]
     },
     "execution_count": 27,
     "metadata": {},
     "output_type": "execute_result"
    }
   ],
   "source": [
    "products_1['usage'] = products_1['usage'].fillna('Not set')\n",
    "products_1['usage'].value_counts()"
   ]
  },
  {
   "cell_type": "code",
   "execution_count": 28,
   "id": "8e658155-77ed-4e69-9f38-26dd7acd0f2e",
   "metadata": {},
   "outputs": [],
   "source": [
    "products_1['prod_id'] = products_1['product_id']\n"
   ]
  },
  {
   "cell_type": "code",
   "execution_count": 29,
   "id": "034604c0-372c-4def-8482-2517b347b1ab",
   "metadata": {},
   "outputs": [],
   "source": [
    "product_categories_renamed = pd.read_excel('product_categories_renaming.xlsx')"
   ]
  },
  {
   "cell_type": "code",
   "execution_count": 30,
   "id": "55e598ea-e65e-4e3e-b953-f8bd84c10382",
   "metadata": {},
   "outputs": [
    {
     "name": "stdout",
     "output_type": "stream",
     "text": [
      "<class 'pandas.core.frame.DataFrame'>\n",
      "RangeIndex: 170 entries, 0 to 169\n",
      "Data columns (total 4 columns):\n",
      " #   Column                Non-Null Count  Dtype \n",
      "---  ------                --------------  ----- \n",
      " 0   original_name_concat  170 non-null    object\n",
      " 1   masterCategory_new    170 non-null    object\n",
      " 2   subCategory_new       170 non-null    object\n",
      " 3   articleType_new       170 non-null    object\n",
      "dtypes: object(4)\n",
      "memory usage: 5.4+ KB\n"
     ]
    }
   ],
   "source": [
    "product_categories_renamed.info()"
   ]
  },
  {
   "cell_type": "code",
   "execution_count": 31,
   "id": "94e8f9b9-7c29-4e2b-9a12-1d2499d480a2",
   "metadata": {},
   "outputs": [],
   "source": [
    "products_1['categories_concat'] = (\n",
    "    products_1['masterCategory'].astype(str) + \"-\" +\n",
    "    products_1['subCategory'].astype(str) + \"-\" +\n",
    "    products_1['articleType'].astype(str)\n",
    ")\n"
   ]
  },
  {
   "cell_type": "code",
   "execution_count": 32,
   "id": "ce8489b8-03b3-48b5-8a0f-066c179d9ac5",
   "metadata": {},
   "outputs": [],
   "source": [
    "products_1 = products_1.merge(\n",
    "    product_categories_renamed[\n",
    "        ['original_name_concat', 'masterCategory_new', 'subCategory_new', 'articleType_new', ]\n",
    "    ],\n",
    "    left_on='categories_concat',      \n",
    "    right_on='original_name_concat',\n",
    "    how='left'                       \n",
    ")"
   ]
  },
  {
   "cell_type": "code",
   "execution_count": 33,
   "id": "af120156-2ffb-4b60-bb1e-acd9380e918a",
   "metadata": {},
   "outputs": [],
   "source": [
    "products_1.columns = products_1.columns.str.strip()\n",
    "rd_products = products_1[[\n",
    "    'prod_id',\n",
    "    'productDisplayName',\n",
    "    'masterCategory_new',\n",
    "    'subCategory_new',\n",
    "    'articleType_new',\n",
    "    'gender',\n",
    "    'baseColour',\n",
    "    'season',\n",
    "    'year',\n",
    "    'usage'\n",
    "]].copy()\n",
    "rd_products.columns = [\n",
    "    'prod_id',\n",
    "    'prod_name',\n",
    "    'category_level_1',\n",
    "    'category_level_2',\n",
    "    'category_level_3',\n",
    "    'gender',\n",
    "    'baseColour',\n",
    "    'season',\n",
    "    'year',\n",
    "    'usage'\n",
    "]"
   ]
  },
  {
   "cell_type": "code",
   "execution_count": 34,
   "id": "62bbd1cd-3188-4af8-a620-f6ac3cf9a634",
   "metadata": {},
   "outputs": [
    {
     "name": "stdout",
     "output_type": "stream",
     "text": [
      "Table 'rd_prods' successfully uploaded (44446 rows).\n"
     ]
    },
    {
     "data": {
      "text/plain": [
       "True"
      ]
     },
     "execution_count": 34,
     "metadata": {},
     "output_type": "execute_result"
    }
   ],
   "source": [
    "prods_dtype_map = {\n",
    "    'prod_id':          sat.BigInteger(),\n",
    "    'prod_name':        sat.NVARCHAR(None),  # NVARCHAR(MAX) — чтобы влезли любые строки   \n",
    "    'category_level_1': sat.NVARCHAR(255),\n",
    "    'category_level_2': sat.NVARCHAR(255),\n",
    "    'category_level_3': sat.NVARCHAR(255),\n",
    "    'gender':           sat.NVARCHAR(255),\n",
    "    'baseColour':       sat.NVARCHAR(255),\n",
    "    'season':           sat.NVARCHAR(255),\n",
    "    'year':             sat.BigInteger(),\n",
    "    'usage':            sat.NVARCHAR(255)\n",
    "}\n",
    "upload_table(prods_dtype_map, rd_products, table_name = 'rd_prods')\n"
   ]
  },
  {
   "cell_type": "markdown",
   "id": "bfaf8eb5-b88e-464a-b596-deddddd0d8b3",
   "metadata": {},
   "source": [
    "6. Prepare rd_customers"
   ]
  },
  {
   "cell_type": "code",
   "execution_count": 36,
   "id": "7a82ac9d-1c7a-442d-bc5c-2e0389432f43",
   "metadata": {},
   "outputs": [],
   "source": [
    "customers = pd.read_csv('customer.csv')"
   ]
  },
  {
   "cell_type": "code",
   "execution_count": 37,
   "id": "bf738d56-755b-4fe0-b359-b3842dc6fc8d",
   "metadata": {},
   "outputs": [],
   "source": [
    "customers_1 = customers[[\n",
    "'customer_id',\n",
    "'gender',\n",
    "'birthdate',\n",
    "'device_type',\n",
    "'device_version',  \n",
    "'home_location'\n",
    "]].copy()\n",
    "customers_1['birthdate'] = pd.to_datetime(customers_1['birthdate'])\n"
   ]
  },
  {
   "cell_type": "code",
   "execution_count": 38,
   "id": "1603a6ad-7129-4cbe-824e-b416fbe91350",
   "metadata": {},
   "outputs": [
    {
     "name": "stdout",
     "output_type": "stream",
     "text": [
      "<class 'pandas.core.frame.DataFrame'>\n",
      "RangeIndex: 100000 entries, 0 to 99999\n",
      "Data columns (total 6 columns):\n",
      " #   Column          Non-Null Count   Dtype         \n",
      "---  ------          --------------   -----         \n",
      " 0   customer_id     100000 non-null  int64         \n",
      " 1   gender          100000 non-null  object        \n",
      " 2   birthdate       100000 non-null  datetime64[ns]\n",
      " 3   device_type     100000 non-null  object        \n",
      " 4   device_version  100000 non-null  object        \n",
      " 5   home_location   100000 non-null  object        \n",
      "dtypes: datetime64[ns](1), int64(1), object(4)\n",
      "memory usage: 4.6+ MB\n"
     ]
    }
   ],
   "source": [
    "customers_1.info()  "
   ]
  },
  {
   "cell_type": "code",
   "execution_count": 39,
   "id": "800c5981-a839-44da-a712-067390e341ae",
   "metadata": {},
   "outputs": [
    {
     "name": "stdout",
     "output_type": "stream",
     "text": [
      "Table 'rd_customers' successfully uploaded (100000 rows).\n"
     ]
    },
    {
     "data": {
      "text/plain": [
       "True"
      ]
     },
     "execution_count": 39,
     "metadata": {},
     "output_type": "execute_result"
    }
   ],
   "source": [
    "customers_dtype_map = {\n",
    "    'customer_id':     sat.BigInteger(),\n",
    "    'gender':          sat.NVARCHAR(255),\n",
    "    'birthdate':       sat.DateTime(),\n",
    "    'device_type':     sat.NVARCHAR(255),\n",
    "    'device_version':  sat.NVARCHAR(255),\n",
    "    'home_location':   sat.NVARCHAR(255)\n",
    "}\n",
    "\n",
    "upload_table(customers_dtype_map, customers_1, table_name = 'rd_customers')\n"
   ]
  },
  {
   "cell_type": "markdown",
   "id": "40054ea8-bde7-492c-afae-d87554c522de",
   "metadata": {},
   "source": [
    "7. Prepare sessions"
   ]
  },
  {
   "cell_type": "code",
   "execution_count": 41,
   "id": "6a3b9e55-cb8a-4258-9bfe-abc37d5c8cb2",
   "metadata": {},
   "outputs": [],
   "source": [
    "# 1. Define event types \n",
    "event_types = [\n",
    "    'ADD_PROMO', 'ADD_TO_CART', 'BOOKING', 'CLICK',\n",
    "    'HOMEPAGE', 'ITEM_DETAIL', 'PROMO_PAGE', 'SCROLL', 'SEARCH'\n",
    "]"
   ]
  },
  {
   "cell_type": "code",
   "execution_count": 42,
   "id": "84a96af6-4b46-4e3b-9484-7290406fa272",
   "metadata": {},
   "outputs": [],
   "source": [
    "# 2. Create *_time columns dynamically \n",
    "step1 = click_stream_1.copy()\n",
    "for e in event_types:\n",
    "    step1[f'{e}_time'] = step1.loc[step1['event_name'] == e, 'event_time']"
   ]
  },
  {
   "cell_type": "code",
   "execution_count": 43,
   "id": "2360db8b-073d-4467-bd20-613e692263ee",
   "metadata": {},
   "outputs": [],
   "source": [
    "# 3. Aggregate by session and traffic_source\n",
    "agg_dict = {}\n",
    "for e in event_types:\n",
    "    if e in ['ADD_PROMO', 'BOOKING']:\n",
    "        agg_dict[f'{e}_time'] = (f'{e}_time', 'min')\n",
    "    else:\n",
    "        agg_dict[f'{e}_cnt'] = (f'{e}_time', 'count')\n",
    "        agg_dict[f'{e}_first_time'] = (f'{e}_time', 'min')\n",
    "        agg_dict[f'{e}_last_time'] = (f'{e}_time', 'max')\n",
    "\n",
    "sessions = (\n",
    "    step1.groupby(['session_id', 'traffic_source'], as_index=False)\n",
    "         .agg(**agg_dict)\n",
    ")"
   ]
  },
  {
   "cell_type": "code",
   "execution_count": 44,
   "id": "4609270c-c774-4dc9-9657-b294a13e88eb",
   "metadata": {},
   "outputs": [],
   "source": [
    "# 4. Remove timezone info\n",
    "for c in sessions.filter(like='_time').columns:\n",
    "    sessions[c] = sessions[c].dt.tz_convert(None)\n"
   ]
  },
  {
   "cell_type": "code",
   "execution_count": 45,
   "id": "dc78f4ac-1134-4a8a-a0bd-08b36c576662",
   "metadata": {},
   "outputs": [],
   "source": [
    "# 5. Build base session stats \n",
    "base = (\n",
    "    click_stream_1.groupby('session_id', as_index=True)\n",
    "                  .agg(\n",
    "                      session_events_cnt=('event_id', 'count'),\n",
    "                      session_start_time=('event_time', 'min'),\n",
    "                      session_end_time=('event_time', 'max'),\n",
    "                  )\n",
    ")"
   ]
  },
  {
   "cell_type": "code",
   "execution_count": 46,
   "id": "9471102c-e31d-4882-9d94-8c4ac4be2e4a",
   "metadata": {},
   "outputs": [],
   "source": [
    "# 6. Define step categories \n",
    "step2_events = ['CLICK', 'SCROLL', 'SEARCH', 'ITEM_DETAIL', 'PROMO_PAGE']\n",
    "step3_events = ['ADD_TO_CART', 'ADD_PROMO']"
   ]
  },
  {
   "cell_type": "code",
   "execution_count": 47,
   "id": "4455f4a4-b85d-4058-9ce9-15eca28aeacd",
   "metadata": {},
   "outputs": [],
   "source": [
    "# 7. Compute step times \n",
    "step2 = (\n",
    "    click_stream_1[click_stream_1['event_name'].isin(step2_events)]\n",
    "    .groupby('session_id')['event_time']\n",
    "    .min()\n",
    "    .rename('step2_time')\n",
    ")\n",
    "\n",
    "step3 = (\n",
    "    click_stream_1[click_stream_1['event_name'].isin(step3_events)]\n",
    "    .groupby('session_id')['event_time']\n",
    "    .min()\n",
    "    .rename('step3_time')\n",
    ")\n",
    "\n",
    "\n"
   ]
  },
  {
   "cell_type": "code",
   "execution_count": 48,
   "id": "ae616300-6ee0-48e7-9b1f-42fa6b41d31b",
   "metadata": {},
   "outputs": [],
   "source": [
    "# 8. Merge session-level data \n",
    "sessions_agg = base.join([step2, step3]).reset_index()\n",
    "\n",
    "for c in sessions_agg.filter(like='_time').columns:\n",
    "    sessions_agg[c] = sessions_agg[c].dt.tz_convert(None)\n",
    "\n",
    "sessions = (\n",
    "    sessions.merge(sessions_agg, on='session_id', how='left')\n",
    "            .drop(columns=['index'], errors='ignore')\n",
    ")\n"
   ]
  },
  {
   "cell_type": "code",
   "execution_count": 49,
   "id": "a4c8ba82-8de2-4f6f-b640-c83bcf95f420",
   "metadata": {},
   "outputs": [
    {
     "name": "stdout",
     "output_type": "stream",
     "text": [
      "Table 'rd_sessions' successfully uploaded (895203 rows).\n"
     ]
    },
    {
     "data": {
      "text/plain": [
       "True"
      ]
     },
     "execution_count": 49,
     "metadata": {},
     "output_type": "execute_result"
    }
   ],
   "source": [
    "sessions_dtype_map = {\n",
    "    'session_id':              sat.NVARCHAR(None),\n",
    "    'traffic_source':          sat.NVARCHAR(31),\n",
    "    'ADD_PROMO_time':          sat.DateTime(),\n",
    "    'ADD_TO_CART_cnt':         sat.Integer,     \n",
    "    'ADD_TO_CART_first_time':  sat.DateTime(),\n",
    "    'ADD_TO_CART_last_time':   sat.DateTime(),\n",
    "    'BOOKING_time':            sat.DateTime(),\n",
    "    'CLICK_cnt':               sat.Integer,\n",
    "    'CLICK_first_time':        sat.DateTime(),\n",
    "    'CLICK_last_time':         sat.DateTime(),\n",
    "    'HOMEPAGE_cnt':            sat.Integer,\n",
    "    'HOMEPAGE_first_time':     sat.DateTime(),\n",
    "    'HOMEPAGE_last_time':      sat.DateTime(),\n",
    "    'ITEM_DETAIL_cnt':         sat.Integer,   \n",
    "    'ITEM_DETAIL_first_time':  sat.DateTime(),\n",
    "    'ITEM_DETAIL_last_time':   sat.DateTime(),\n",
    "    'PROMO_PAGE_cnt':          sat.Integer,   \n",
    "    'PROMO_PAGE_first_time':   sat.DateTime(),\n",
    "    'PROMO_PAGE_last_time':    sat.DateTime(),\n",
    "    'SCROLL_cnt':              sat.Integer,\n",
    "    'SCROLL_first_time':       sat.DateTime(),\n",
    "    'SCROLL_last_time':        sat.DateTime(),\n",
    "    'SEARCH_cnt':              sat.Integer,\n",
    "    'SEARCH_first_time':       sat.DateTime(),\n",
    "    'SEARCH_last_time':        sat.DateTime(),\n",
    "    'session_events_cnt':      sat.Integer,         \n",
    "    'session_start_time':      sat.DateTime(),\n",
    "    'session_end_time':        sat.DateTime(),\n",
    "    'step2_time':              sat.DateTime(),\n",
    "    'step3_time':              sat.DateTime()\n",
    "}\n",
    "\n",
    "upload_table(sessions_dtype_map, sessions, table_name = 'rd_sessions', batch_size = 20_000)\n"
   ]
  }
 ],
 "metadata": {
  "kernelspec": {
   "display_name": "Python 3 (ipykernel)",
   "language": "python",
   "name": "python3"
  },
  "language_info": {
   "codemirror_mode": {
    "name": "ipython",
    "version": 3
   },
   "file_extension": ".py",
   "mimetype": "text/x-python",
   "name": "python",
   "nbconvert_exporter": "python",
   "pygments_lexer": "ipython3",
   "version": "3.12.7"
  }
 },
 "nbformat": 4,
 "nbformat_minor": 5
}
